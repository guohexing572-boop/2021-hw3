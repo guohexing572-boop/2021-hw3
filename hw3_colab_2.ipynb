{
 "cells": [
  {
   "cell_type": "code",
   "id": "initial_id",
   "metadata": {
    "collapsed": true,
    "ExecuteTime": {
     "end_time": "2025-10-18T07:16:13.204827Z",
     "start_time": "2025-10-18T07:16:09.825588Z"
    }
   },
   "source": [
    "# Download the dataset\n",
    "# You may choose where to download the data.\n",
    "\n",
    "# Google Drive\n",
    "!gdown --id '1awF7pZ9Dz7X1jn1_QAiKN-_v56veCEKy' --output food-11.zip\n",
    "\n",
    "# Dropbox\n",
    "# !wget https://www.dropbox.com/s/m9q6273jl3djall/food-11.zip -O food-11.zip\n",
    "\n",
    "# MEGA\n",
    "# !sudo apt install megatools\n",
    "# !megadl \"https://mega.nz/#!zt1TTIhK!ZuMbg5ZjGWzWX1I6nEUbfjMZgCmAgeqJlwDkqdIryfg\"\n",
    "\n",
    "# Unzip the dataset.\n",
    "# This may take some time.\n",
    "!unzip -q food-11.zip"
   ],
   "outputs": [
    {
     "name": "stderr",
     "output_type": "stream",
     "text": [
      "C:\\Users\\12695\\AppData\\Roaming\\Python\\Python312\\site-packages\\gdown\\__main__.py:140: FutureWarning: Option `--id` was deprecated in version 4.3.1 and will be removed in 5.0. You don't need to pass it anymore to use a file ID.\n",
      "  warnings.warn(\n",
      "Failed to retrieve file url:\n",
      "\n",
      "\tCannot retrieve the public link of the file. You may need to change\n",
      "\tthe permission to 'Anyone with the link', or have had many accesses.\n",
      "\tCheck FAQ in https://github.com/wkentaro/gdown?tab=readme-ov-file#faq.\n",
      "\n",
      "You may still be able to access the file from the browser:\n",
      "\n",
      "\thttps://drive.google.com/uc?id='1awF7pZ9Dz7X1jn1_QAiKN-_v56veCEKy'\n",
      "\n",
      "but Gdown can't. Please check connections and permissions.\n",
      "unzip:  cannot find or open food-11.zip, food-11.zip.zip or food-11.zip.ZIP."
     ]
    }
   ],
   "execution_count": 18
  },
  {
   "metadata": {},
   "cell_type": "markdown",
   "source": "# 自制cnn第一版",
   "id": "1b5967f392619ad3"
  },
  {
   "metadata": {},
   "cell_type": "markdown",
   "source": "# 导入包",
   "id": "18b117f85c15433d"
  },
  {
   "metadata": {
    "ExecuteTime": {
     "end_time": "2025-10-18T07:16:13.214447Z",
     "start_time": "2025-10-18T07:16:13.206846Z"
    }
   },
   "cell_type": "code",
   "source": [
    "import torch\n",
    "import torch.nn as nn\n",
    "import torchvision.models as models\n",
    "from torchvision import transforms\n",
    "import numpy as np\n",
    "import torch\n",
    "import sys\n",
    "import os\n",
    "import random\n",
    "from PIL import Image\n",
    "from torch.utils.data import Dataset\n",
    "import matplotlib.pyplot as plt\n",
    "sys.path.append('../tools')\n",
    "import pandas as pd"
   ],
   "id": "cf8a01e055283993",
   "outputs": [],
   "execution_count": 19
  },
  {
   "metadata": {},
   "cell_type": "markdown",
   "source": "# 构建FoodCnn模型",
   "id": "cf1631fa65259aa0"
  },
  {
   "metadata": {
    "ExecuteTime": {
     "end_time": "2025-10-18T07:16:13.225183Z",
     "start_time": "2025-10-18T07:16:13.216791Z"
    }
   },
   "cell_type": "code",
   "source": [
    "class FoodCNN(nn.Module):\n",
    "    def __init__(self, num_classes=11, dropout_rate=0.3):\n",
    "        super(FoodCNN, self).__init__()\n",
    "\n",
    "        # 特征提取层 - 只有3个卷积块\n",
    "        self.features = nn.Sequential(\n",
    "            # 第一层卷积块\n",
    "            nn.Conv2d(3, 32, kernel_size=3, padding=1),\n",
    "            nn.BatchNorm2d(32),\n",
    "            nn.ReLU(inplace=True),\n",
    "            nn.Conv2d(32, 32, kernel_size=3, padding=1),\n",
    "            nn.BatchNorm2d(32),\n",
    "            nn.ReLU(inplace=True),\n",
    "            nn.MaxPool2d(kernel_size=2, stride=2),\n",
    "            nn.Dropout2d(dropout_rate / 3),\n",
    "\n",
    "            # 第二层卷积块\n",
    "            nn.Conv2d(32, 64, kernel_size=3, padding=1),\n",
    "            nn.BatchNorm2d(64),\n",
    "            nn.ReLU(inplace=True),\n",
    "            nn.Conv2d(64, 64, kernel_size=3, padding=1),\n",
    "            nn.BatchNorm2d(64),\n",
    "            nn.ReLU(inplace=True),\n",
    "            nn.MaxPool2d(kernel_size=2, stride=2),\n",
    "            nn.Dropout2d(dropout_rate / 2),\n",
    "\n",
    "            # 第三层卷积块\n",
    "            nn.Conv2d(64, 128, kernel_size=3, padding=1),\n",
    "            nn.BatchNorm2d(128),\n",
    "            nn.ReLU(inplace=True),\n",
    "            nn.Conv2d(128, 128, kernel_size=3, padding=1),\n",
    "            nn.BatchNorm2d(128),\n",
    "            nn.ReLU(inplace=True),\n",
    "            nn.AdaptiveAvgPool2d((4, 4)),\n",
    "            nn.Dropout2d(dropout_rate),\n",
    "        )\n",
    "\n",
    "        # 分类器 - 更简单的全连接层\n",
    "        self.classifier = nn.Sequential(\n",
    "            nn.Dropout(dropout_rate),\n",
    "            nn.Linear(128 * 4 * 4, 256),\n",
    "            nn.ReLU(inplace=True),\n",
    "            nn.Dropout(dropout_rate / 2),\n",
    "            nn.Linear(256, num_classes)\n",
    "        )\n",
    "\n",
    "        self._initialize_weights()\n",
    "\n",
    "    def _initialize_weights(self):\n",
    "        for m in self.modules():\n",
    "            if isinstance(m, nn.Conv2d):\n",
    "                nn.init.kaiming_normal_(m.weight, mode='fan_out', nonlinearity='relu')\n",
    "            elif isinstance(m, nn.BatchNorm2d):\n",
    "                nn.init.constant_(m.weight, 1)\n",
    "                nn.init.constant_(m.bias, 0)\n",
    "            elif isinstance(m, nn.Linear):\n",
    "                nn.init.normal_(m.weight, 0, 0.01)\n",
    "                nn.init.constant_(m.bias, 0)\n",
    "\n",
    "    def forward(self, x):\n",
    "        x = self.features(x)\n",
    "        x = torch.flatten(x, 1)\n",
    "        x = self.classifier(x)\n",
    "        return x\n"
   ],
   "id": "2242cc23ce7374c4",
   "outputs": [],
   "execution_count": 20
  },
  {
   "metadata": {},
   "cell_type": "markdown",
   "source": "## 测试FoodCnn",
   "id": "a2638752eff373d7"
  },
  {
   "metadata": {
    "ExecuteTime": {
     "end_time": "2025-10-18T07:16:13.244159Z",
     "start_time": "2025-10-18T07:16:13.227174Z"
    }
   },
   "cell_type": "code",
   "source": [
    "# 创建模型\n",
    "model = FoodCNN(num_classes=11)\n",
    "print(model)"
   ],
   "id": "f43bda685050cac1",
   "outputs": [
    {
     "name": "stdout",
     "output_type": "stream",
     "text": [
      "FoodCNN(\n",
      "  (features): Sequential(\n",
      "    (0): Conv2d(3, 32, kernel_size=(3, 3), stride=(1, 1), padding=(1, 1))\n",
      "    (1): BatchNorm2d(32, eps=1e-05, momentum=0.1, affine=True, track_running_stats=True)\n",
      "    (2): ReLU(inplace=True)\n",
      "    (3): Conv2d(32, 32, kernel_size=(3, 3), stride=(1, 1), padding=(1, 1))\n",
      "    (4): BatchNorm2d(32, eps=1e-05, momentum=0.1, affine=True, track_running_stats=True)\n",
      "    (5): ReLU(inplace=True)\n",
      "    (6): MaxPool2d(kernel_size=2, stride=2, padding=0, dilation=1, ceil_mode=False)\n",
      "    (7): Dropout2d(p=0.09999999999999999, inplace=False)\n",
      "    (8): Conv2d(32, 64, kernel_size=(3, 3), stride=(1, 1), padding=(1, 1))\n",
      "    (9): BatchNorm2d(64, eps=1e-05, momentum=0.1, affine=True, track_running_stats=True)\n",
      "    (10): ReLU(inplace=True)\n",
      "    (11): Conv2d(64, 64, kernel_size=(3, 3), stride=(1, 1), padding=(1, 1))\n",
      "    (12): BatchNorm2d(64, eps=1e-05, momentum=0.1, affine=True, track_running_stats=True)\n",
      "    (13): ReLU(inplace=True)\n",
      "    (14): MaxPool2d(kernel_size=2, stride=2, padding=0, dilation=1, ceil_mode=False)\n",
      "    (15): Dropout2d(p=0.15, inplace=False)\n",
      "    (16): Conv2d(64, 128, kernel_size=(3, 3), stride=(1, 1), padding=(1, 1))\n",
      "    (17): BatchNorm2d(128, eps=1e-05, momentum=0.1, affine=True, track_running_stats=True)\n",
      "    (18): ReLU(inplace=True)\n",
      "    (19): Conv2d(128, 128, kernel_size=(3, 3), stride=(1, 1), padding=(1, 1))\n",
      "    (20): BatchNorm2d(128, eps=1e-05, momentum=0.1, affine=True, track_running_stats=True)\n",
      "    (21): ReLU(inplace=True)\n",
      "    (22): AdaptiveAvgPool2d(output_size=(4, 4))\n",
      "    (23): Dropout2d(p=0.3, inplace=False)\n",
      "  )\n",
      "  (classifier): Sequential(\n",
      "    (0): Dropout(p=0.3, inplace=False)\n",
      "    (1): Linear(in_features=2048, out_features=256, bias=True)\n",
      "    (2): ReLU(inplace=True)\n",
      "    (3): Dropout(p=0.15, inplace=False)\n",
      "    (4): Linear(in_features=256, out_features=11, bias=True)\n",
      "  )\n",
      ")\n"
     ]
    }
   ],
   "execution_count": 21
  },
  {
   "metadata": {},
   "cell_type": "markdown",
   "source": "# 导入common_tools",
   "id": "ccbffe6c81d27084"
  },
  {
   "metadata": {
    "ExecuteTime": {
     "end_time": "2025-10-18T07:16:13.249282Z",
     "start_time": "2025-10-18T07:16:13.245172Z"
    }
   },
   "cell_type": "code",
   "source": [
    "def plot_loss_curves(train_losses, val_losses, save_path=None):\n",
    "    \"\"\"\n",
    "    绘制训练和验证损失曲线\n",
    "    \"\"\"\n",
    "    plt.figure(figsize=(10, 6))\n",
    "    plt.plot(train_losses, label='Training Loss', linewidth=2)\n",
    "    plt.plot(val_losses, label='Validation Loss', linewidth=2)\n",
    "    plt.xlabel('Epoch')\n",
    "    plt.ylabel('Loss')\n",
    "    plt.title('Training and Validation Loss')\n",
    "    plt.legend()\n",
    "    plt.grid(True, alpha=0.3)\n",
    "\n",
    "    if save_path:\n",
    "        plt.savefig(save_path, dpi=300, bbox_inches='tight')\n",
    "        print(f\"图片已保存到: {save_path}\")\n"
   ],
   "id": "f4ea11a1c4a86380",
   "outputs": [],
   "execution_count": 22
  },
  {
   "metadata": {
    "ExecuteTime": {
     "end_time": "2025-10-18T07:16:13.256940Z",
     "start_time": "2025-10-18T07:16:13.250294Z"
    }
   },
   "cell_type": "code",
   "source": [
    "def plot_accuracy_curves(train_accuracies, val_accuracies, save_path=None):\n",
    "    \"\"\"\n",
    "    绘制准确率曲线\n",
    "\n",
    "    Args:\n",
    "        train_accuracies: 训练准确率列表\n",
    "        val_accuracies: 验证准确率列表\n",
    "        save_path: 图片保存路径\n",
    "    \"\"\"\n",
    "    plt.figure(figsize=(10, 6))\n",
    "\n",
    "    epochs = range(1, len(train_accuracies) + 1)\n",
    "\n",
    "    plt.plot(epochs, train_accuracies, 'b-', label='Training Accuracy', linewidth=2)\n",
    "    plt.plot(epochs, val_accuracies, 'r-', label='Validation Accuracy', linewidth=2)\n",
    "\n",
    "    plt.title('Training and Validation Accuracy', fontsize=14, fontweight='bold')\n",
    "    plt.xlabel('Epochs', fontsize=12)\n",
    "    plt.ylabel('Accuracy (%)', fontsize=12)\n",
    "    plt.legend(fontsize=12)\n",
    "    plt.grid(True, alpha=0.3)\n",
    "\n",
    "    # 设置y轴范围从0开始\n",
    "    plt.ylim(bottom=0)\n",
    "\n",
    "    # 添加最佳准确率标注\n",
    "    best_val_acc = max(val_accuracies)\n",
    "    best_epoch = val_accuracies.index(best_val_acc) + 1\n",
    "    plt.axvline(x=best_epoch, color='gray', linestyle='--', alpha=0.7)\n",
    "    plt.text(best_epoch, best_val_acc / 2, f'Best: {best_val_acc:.2f}%\\nEpoch: {best_epoch}',\n",
    "             ha='center', va='center', fontsize=10, bbox=dict(boxstyle=\"round,pad=0.3\", facecolor=\"white\", alpha=0.8))\n",
    "\n",
    "    plt.tight_layout()\n",
    "\n",
    "    if save_path:\n",
    "        plt.savefig(save_path, dpi=300, bbox_inches='tight')\n",
    "        plt.close()\n",
    "    else:\n",
    "        plt.show()"
   ],
   "id": "b81834f12398161c",
   "outputs": [],
   "execution_count": 23
  },
  {
   "metadata": {
    "ExecuteTime": {
     "end_time": "2025-10-18T07:16:13.268318Z",
     "start_time": "2025-10-18T07:16:13.259953Z"
    }
   },
   "cell_type": "code",
   "source": [
    "def plot_training_curves(train_losses, val_losses, train_accuracies, val_accuracies, save_path=None):\n",
    "    \"\"\"\n",
    "    绘制综合训练曲线（损失和准确率在一起）\n",
    "\n",
    "    Args:\n",
    "        train_losses: 训练损失列表\n",
    "        val_losses: 验证损失列表\n",
    "        train_accuracies: 训练准确率列表\n",
    "        val_accuracies: 验证准确率列表\n",
    "        save_path: 图片保存路径\n",
    "    \"\"\"\n",
    "    fig, (ax1, ax2) = plt.subplots(2, 1, figsize=(12, 10))\n",
    "\n",
    "    epochs = range(1, len(train_losses) + 1)\n",
    "\n",
    "    # 绘制损失曲线\n",
    "    ax1.plot(epochs, train_losses, 'b-', label='Training Loss', linewidth=2)\n",
    "    ax1.plot(epochs, val_losses, 'r-', label='Validation Loss', linewidth=2)\n",
    "    ax1.set_title('Training and Validation Loss', fontsize=14, fontweight='bold')\n",
    "    ax1.set_ylabel('Loss', fontsize=12)\n",
    "    ax1.legend(fontsize=12)\n",
    "    ax1.grid(True, alpha=0.3)\n",
    "\n",
    "    # 绘制准确率曲线\n",
    "    ax2.plot(epochs, train_accuracies, 'b-', label='Training Accuracy', linewidth=2)\n",
    "    ax2.plot(epochs, val_accuracies, 'r-', label='Validation Accuracy', linewidth=2)\n",
    "    ax2.set_title('Training and Validation Accuracy', fontsize=14, fontweight='bold')\n",
    "    ax2.set_xlabel('Epochs', fontsize=12)\n",
    "    ax2.set_ylabel('Accuracy (%)', fontsize=12)\n",
    "    ax2.legend(fontsize=12)\n",
    "    ax2.grid(True, alpha=0.3)\n",
    "    ax2.set_ylim(bottom=0)\n",
    "\n",
    "    # 添加最佳准确率标注\n",
    "    best_val_acc = max(val_accuracies)\n",
    "    best_epoch = val_accuracies.index(best_val_acc) + 1\n",
    "    ax2.axvline(x=best_epoch, color='gray', linestyle='--', alpha=0.7)\n",
    "    ax2.text(best_epoch, best_val_acc / 2, f'Best: {best_val_acc:.2f}%',\n",
    "             ha='center', va='center', fontsize=10,\n",
    "             bbox=dict(boxstyle=\"round,pad=0.3\", facecolor=\"white\", alpha=0.8))\n",
    "\n",
    "    plt.tight_layout()\n",
    "\n",
    "    if save_path:\n",
    "        plt.savefig(save_path, dpi=300, bbox_inches='tight')\n",
    "        plt.close()\n",
    "    else:\n",
    "        plt.show()"
   ],
   "id": "afa15939363969d6",
   "outputs": [],
   "execution_count": 24
  },
  {
   "metadata": {},
   "cell_type": "markdown",
   "source": "# 训练模型",
   "id": "e0780b7365e5567a"
  },
  {
   "metadata": {
    "ExecuteTime": {
     "end_time": "2025-10-18T07:16:13.278747Z",
     "start_time": "2025-10-18T07:16:13.271052Z"
    }
   },
   "cell_type": "code",
   "source": [
    "import os\n",
    "from datetime import datetime\n",
    "\n",
    "import torch.nn as nn\n",
    "import torch\n",
    "from torch.utils.data import DataLoader, random_split\n",
    "from torchvision.datasets import DatasetFolder\n",
    "import torch.optim as optim\n",
    "from tools.hw3_model import resnet18\n",
    "from tools.hw3_common_tools import plot_loss_curves, plot_accuracy_curves, plot_training_curves\n",
    "from PIL import Image\n",
    "\n"
   ],
   "id": "a9a9791c1034ac68",
   "outputs": [],
   "execution_count": 25
  },
  {
   "metadata": {
    "ExecuteTime": {
     "end_time": "2025-10-18T07:16:13.287099Z",
     "start_time": "2025-10-18T07:16:13.281257Z"
    }
   },
   "cell_type": "code",
   "source": [
    "BASE_DIR = os.getcwd() \n",
    "device = torch.device(\"cuda\" if torch.cuda.is_available() else \"cpu\")  # 自动选择GPU或CPU"
   ],
   "id": "9f1691ff7a432a74",
   "outputs": [],
   "execution_count": 26
  },
  {
   "metadata": {
    "ExecuteTime": {
     "end_time": "2025-10-18T07:16:13.297335Z",
     "start_time": "2025-10-18T07:16:13.292032Z"
    }
   },
   "cell_type": "code",
   "source": "parent_dir = os.path.dirname(BASE_DIR)  # 获取上级文件夹",
   "id": "a58d8a18ffe0ed96",
   "outputs": [],
   "execution_count": 27
  },
  {
   "metadata": {
    "ExecuteTime": {
     "end_time": "2025-10-18T07:16:13.306057Z",
     "start_time": "2025-10-18T07:16:13.299350Z"
    }
   },
   "cell_type": "code",
   "source": [
    "now_time = datetime.now()\n",
    "time_str = datetime.strftime(now_time, '%m-%d_%H-%M')\n",
    "log_dir = os.path.join(BASE_DIR, \"..\", \"results\", time_str)\n",
    "if not os.path.exists(log_dir):\n",
    "    os.makedirs(log_dir)"
   ],
   "id": "cc7ba5f4bc3b7259",
   "outputs": [],
   "execution_count": 28
  },
  {
   "metadata": {
    "ExecuteTime": {
     "end_time": "2025-10-18T07:16:13.313800Z",
     "start_time": "2025-10-18T07:16:13.309176Z"
    }
   },
   "cell_type": "code",
   "source": [
    "# 训练超参数\n",
    "MAX_EPOCH = 256  # 总训练轮数\n",
    "BATCH_SIZE = 128  # 批大小\n",
    "LR = 0.001  # 初始学习率\n",
    "log_interval = 1  # 日志记录间隔\n",
    "val_interval = 1  # 验证间隔\n",
    "PATIENCE = 20  # 早停耐心值\n"
   ],
   "id": "c9d3d916492191bf",
   "outputs": [],
   "execution_count": 29
  },
  {
   "metadata": {
    "ExecuteTime": {
     "end_time": "2025-10-18T07:16:13.325012Z",
     "start_time": "2025-10-18T07:16:13.317071Z"
    }
   },
   "cell_type": "code",
   "source": [
    "# ============================ step 1/5 数据加载 ============================\n",
    "train_tfm = transforms.Compose([\n",
    "    transforms.Resize((128, 128)),\n",
    "    # 添加数据增强\n",
    "    transforms.RandomHorizontalFlip(p=0.5),\n",
    "    transforms.RandomRotation(degrees=15),\n",
    "    transforms.ColorJitter(brightness=0.2, contrast=0.2, saturation=0.2, hue=0.1),\n",
    "    transforms.RandomAffine(degrees=0, translate=(0.1, 0.1), scale=(0.9, 1.1)),\n",
    "    transforms.ToTensor(),\n",
    "    # 添加归一化（重要！）\n",
    "    transforms.Normalize(mean=[0.485, 0.456, 0.406],\n",
    "                         std=[0.229, 0.224, 0.225])\n",
    "])\n",
    "\n",
    "test_tfm = transforms.Compose([\n",
    "    transforms.Resize((128, 128)),\n",
    "    transforms.ToTensor(),\n",
    "    transforms.Normalize(mean=[0.485, 0.456, 0.406],\n",
    "                         std=[0.229, 0.224, 0.225])\n",
    "])"
   ],
   "id": "7c21ce40c8699ce5",
   "outputs": [],
   "execution_count": 30
  },
  {
   "metadata": {
    "ExecuteTime": {
     "end_time": "2025-10-18T07:16:13.398441Z",
     "start_time": "2025-10-18T07:16:13.326944Z"
    }
   },
   "cell_type": "code",
   "source": [
    "train_set = DatasetFolder(\"food-11/training/labeled\", loader=lambda x: Image.open(x), extensions=\"jpg\",\n",
    "                          transform=train_tfm)\n",
    "valid_set = DatasetFolder(\"food-11/validation\", loader=lambda x: Image.open(x), extensions=\"jpg\",\n",
    "                          transform=test_tfm)\n",
    "unlabeled_set = DatasetFolder(\"food-11/training/unlabeled\", loader=lambda x: Image.open(x), extensions=\"jpg\",\n",
    "                              transform=train_tfm)\n",
    "test_set = DatasetFolder(\"food-11/testing\", loader=lambda x: Image.open(x), extensions=\"jpg\", transform=test_tfm)\n"
   ],
   "id": "c2f29ffdb5a57256",
   "outputs": [],
   "execution_count": 31
  },
  {
   "metadata": {
    "ExecuteTime": {
     "end_time": "2025-10-18T07:16:13.408483Z",
     "start_time": "2025-10-18T07:16:13.400458Z"
    }
   },
   "cell_type": "code",
   "source": [
    "train_loader = DataLoader(train_set, batch_size=BATCH_SIZE, shuffle=True, num_workers=2, pin_memory=True)\n",
    "valid_loader = DataLoader(valid_set, batch_size=BATCH_SIZE, shuffle=False, num_workers=2, pin_memory=True)\n",
    "test_loader = DataLoader(test_set, batch_size=BATCH_SIZE, shuffle=False)\n",
    "\n",
    "print(f\"训练集: {len(train_set)}\")\n",
    "print(f\"验证集: {len(valid_set)}\")"
   ],
   "id": "1c05fc4515957426",
   "outputs": [
    {
     "name": "stdout",
     "output_type": "stream",
     "text": [
      "训练集: 3080\n",
      "验证集: 660\n"
     ]
    }
   ],
   "execution_count": 32
  },
  {
   "metadata": {
    "ExecuteTime": {
     "end_time": "2025-10-18T07:16:13.419865Z",
     "start_time": "2025-10-18T07:16:13.410499Z"
    }
   },
   "cell_type": "code",
   "source": "model.to(device)  # 将模型移动到设备（GPU/CPU）",
   "id": "6ec8564f10dd3833",
   "outputs": [
    {
     "data": {
      "text/plain": [
       "FoodCNN(\n",
       "  (features): Sequential(\n",
       "    (0): Conv2d(3, 32, kernel_size=(3, 3), stride=(1, 1), padding=(1, 1))\n",
       "    (1): BatchNorm2d(32, eps=1e-05, momentum=0.1, affine=True, track_running_stats=True)\n",
       "    (2): ReLU(inplace=True)\n",
       "    (3): Conv2d(32, 32, kernel_size=(3, 3), stride=(1, 1), padding=(1, 1))\n",
       "    (4): BatchNorm2d(32, eps=1e-05, momentum=0.1, affine=True, track_running_stats=True)\n",
       "    (5): ReLU(inplace=True)\n",
       "    (6): MaxPool2d(kernel_size=2, stride=2, padding=0, dilation=1, ceil_mode=False)\n",
       "    (7): Dropout2d(p=0.09999999999999999, inplace=False)\n",
       "    (8): Conv2d(32, 64, kernel_size=(3, 3), stride=(1, 1), padding=(1, 1))\n",
       "    (9): BatchNorm2d(64, eps=1e-05, momentum=0.1, affine=True, track_running_stats=True)\n",
       "    (10): ReLU(inplace=True)\n",
       "    (11): Conv2d(64, 64, kernel_size=(3, 3), stride=(1, 1), padding=(1, 1))\n",
       "    (12): BatchNorm2d(64, eps=1e-05, momentum=0.1, affine=True, track_running_stats=True)\n",
       "    (13): ReLU(inplace=True)\n",
       "    (14): MaxPool2d(kernel_size=2, stride=2, padding=0, dilation=1, ceil_mode=False)\n",
       "    (15): Dropout2d(p=0.15, inplace=False)\n",
       "    (16): Conv2d(64, 128, kernel_size=(3, 3), stride=(1, 1), padding=(1, 1))\n",
       "    (17): BatchNorm2d(128, eps=1e-05, momentum=0.1, affine=True, track_running_stats=True)\n",
       "    (18): ReLU(inplace=True)\n",
       "    (19): Conv2d(128, 128, kernel_size=(3, 3), stride=(1, 1), padding=(1, 1))\n",
       "    (20): BatchNorm2d(128, eps=1e-05, momentum=0.1, affine=True, track_running_stats=True)\n",
       "    (21): ReLU(inplace=True)\n",
       "    (22): AdaptiveAvgPool2d(output_size=(4, 4))\n",
       "    (23): Dropout2d(p=0.3, inplace=False)\n",
       "  )\n",
       "  (classifier): Sequential(\n",
       "    (0): Dropout(p=0.3, inplace=False)\n",
       "    (1): Linear(in_features=2048, out_features=256, bias=True)\n",
       "    (2): ReLU(inplace=True)\n",
       "    (3): Dropout(p=0.15, inplace=False)\n",
       "    (4): Linear(in_features=256, out_features=11, bias=True)\n",
       "  )\n",
       ")"
      ]
     },
     "execution_count": 33,
     "metadata": {},
     "output_type": "execute_result"
    }
   ],
   "execution_count": 33
  },
  {
   "metadata": {
    "ExecuteTime": {
     "end_time": "2025-10-18T07:16:13.428488Z",
     "start_time": "2025-10-18T07:16:13.421880Z"
    }
   },
   "cell_type": "code",
   "source": [
    "# 打印模型信息\n",
    "print(f\"模型已创建，移动到设备: {device}\")\n",
    "print(f\"模型参数量: {sum(p.numel() for p in model.parameters()):,}\")"
   ],
   "id": "d14ec82869a0b6b2",
   "outputs": [
    {
     "name": "stdout",
     "output_type": "stream",
     "text": [
      "模型已创建，移动到设备: cpu\n",
      "模型参数量: 815,275\n"
     ]
    }
   ],
   "execution_count": 34
  },
  {
   "metadata": {
    "ExecuteTime": {
     "end_time": "2025-10-18T07:16:13.436186Z",
     "start_time": "2025-10-18T07:16:13.430585Z"
    }
   },
   "cell_type": "code",
   "source": [
    "# ============================ step 3/5 损失函数 ============================\n",
    "criterion = nn.CrossEntropyLoss()  # 分类任务用交叉熵损失"
   ],
   "id": "4ea0cf1c50da9a0b",
   "outputs": [],
   "execution_count": 35
  },
  {
   "metadata": {
    "ExecuteTime": {
     "end_time": "2025-10-18T07:16:13.444616Z",
     "start_time": "2025-10-18T07:16:13.438699Z"
    }
   },
   "cell_type": "code",
   "source": [
    "# ============================ step 4/5 优化器 ============================\n",
    "# 使用SGD，通常对ResNet效果更好\n",
    "optimizer = optim.SGD(model.parameters(), lr=LR, momentum=0.9, weight_decay=1e-4)\n",
    "scheduler = optim.lr_scheduler.CosineAnnealingLR(optimizer, T_max=MAX_EPOCH, eta_min=1e-6)\n"
   ],
   "id": "763705b9bcc4529",
   "outputs": [],
   "execution_count": 36
  },
  {
   "metadata": {
    "ExecuteTime": {
     "end_time": "2025-10-18T07:16:13.870619Z",
     "start_time": "2025-10-18T07:16:13.446629Z"
    }
   },
   "cell_type": "code",
   "source": [
    "# ============================ step 5/5 训练循环 ============================\n",
    "# 记录训练过程中的各项指标\n",
    "train_losses = []\n",
    "val_losses = []\n",
    "train_accuracies = []\n",
    "val_accuracies = []\n",
    "learning_rates = []\n",
    "best_val_accuracy = 0.0\n",
    "early_stop_counter = 0\n",
    "best_epoch = 0\n",
    "\n",
    "print(\"开始训练...\")\n",
    "for epoch in range(MAX_EPOCH):\n",
    "    # ===== 训练阶段 =====\n",
    "    model.train()\n",
    "    train_loss = 0.0\n",
    "    train_correct = 0\n",
    "    train_total = 0\n",
    "\n",
    "    for batch_idx, (data, target) in enumerate(train_loader):\n",
    "        data, target = data.to(device), target.to(device)\n",
    "\n",
    "        # 确保标签是long类型（CrossEntropyLoss要求）\n",
    "        if target.dtype != torch.long:\n",
    "            target = target.long()\n",
    "\n",
    "        optimizer.zero_grad()\n",
    "        output = model(data)\n",
    "        loss = criterion(output, target)\n",
    "        loss.backward()\n",
    "        optimizer.step()\n",
    "\n",
    "        train_loss += loss.item()\n",
    "\n",
    "        # 计算训练准确率\n",
    "        _, predicted = torch.max(output.data, 1)\n",
    "        train_total += target.size(0)\n",
    "        train_correct += (predicted == target).sum().item()\n",
    "\n",
    "    avg_train_loss = train_loss / len(train_loader)\n",
    "    train_accuracy = 100.0 * train_correct / train_total\n",
    "    train_losses.append(avg_train_loss)\n",
    "    train_accuracies.append(train_accuracy)\n",
    "\n",
    "    # 更新学习率并记录\n",
    "    current_lr = scheduler.get_last_lr()[0]\n",
    "    learning_rates.append(current_lr)\n",
    "    scheduler.step()\n",
    "\n",
    "    # ===== 验证阶段 =====\n",
    "    model.eval()\n",
    "    val_loss = 0.0\n",
    "    val_correct = 0\n",
    "    val_total = 0\n",
    "\n",
    "    with torch.no_grad():\n",
    "        for data, target in valid_loader:\n",
    "            data, target = data.to(device), target.to(device)\n",
    "\n",
    "            # 确保标签是long类型\n",
    "            if target.dtype != torch.long:\n",
    "                target = target.long()\n",
    "\n",
    "            output = model(data)\n",
    "            loss = criterion(output, target)\n",
    "            val_loss += loss.item()\n",
    "\n",
    "            # 计算验证准确率\n",
    "            _, predicted = torch.max(output.data, 1)\n",
    "            val_total += target.size(0)\n",
    "            val_correct += (predicted == target).sum().item()\n",
    "\n",
    "    avg_val_loss = val_loss / len(valid_loader)\n",
    "    val_accuracy = 100.0 * val_correct / val_total\n",
    "    val_losses.append(avg_val_loss)\n",
    "    val_accuracies.append(val_accuracy)\n",
    "\n",
    "    # ===== 早停判断和模型保存 =====\n",
    "    if val_accuracy > best_val_accuracy:\n",
    "        best_val_accuracy = val_accuracy\n",
    "        best_epoch = epoch\n",
    "        early_stop_counter = 0\n",
    "\n",
    "        # 保存最佳模型\n",
    "        checkpoint = {\n",
    "            \"model_state_dict\": model.state_dict(),\n",
    "            \"optimizer_state_dict\": optimizer.state_dict(),\n",
    "            \"scheduler_state_dict\": scheduler.state_dict(),\n",
    "            \"epoch\": epoch,\n",
    "            \"best_val_accuracy\": best_val_accuracy,\n",
    "            \"val_loss\": avg_val_loss,\n",
    "            \"train_accuracy\": train_accuracy,\n",
    "            \"train_loss\": avg_train_loss\n",
    "        }\n",
    "        path_checkpoint = os.path.join(log_dir, \"checkpoint_best.pkl\")\n",
    "        torch.save(checkpoint, path_checkpoint)\n",
    "        print(f\"✅ 保存最佳模型，验证准确率: {best_val_accuracy:.2f}%\")\n",
    "    else:\n",
    "        early_stop_counter += 1\n",
    "\n",
    "    # 打印训练和验证信息\n",
    "    if epoch % log_interval == 0:\n",
    "        print(f'Epoch: {epoch:03d}/{MAX_EPOCH}, '\n",
    "              f'Train Loss: {avg_train_loss:.4f}, Train Acc: {train_accuracy:.2f}%, '\n",
    "              f'Val Loss: {avg_val_loss:.4f}, Val Acc: {val_accuracy:.2f}%, '\n",
    "              f'LR: {current_lr:.6f}, '\n",
    "              f'EarlyStop: {early_stop_counter}/{PATIENCE}')\n",
    "\n",
    "    # 早停检查\n",
    "    if early_stop_counter >= PATIENCE:\n",
    "        print(f\"🚨 早停触发！在 epoch {epoch} 停止训练\")\n",
    "        print(f\"🏆 最佳模型在 epoch {best_epoch}, 验证准确率: {best_val_accuracy:.2f}%\")\n",
    "        break\n"
   ],
   "id": "ee0e5a021f3ec279",
   "outputs": [
    {
     "name": "stdout",
     "output_type": "stream",
     "text": [
      "开始训练...\n"
     ]
    },
    {
     "ename": "PicklingError",
     "evalue": "Can't pickle <function <lambda> at 0x000001ED86A47880>: attribute lookup <lambda> on __main__ failed",
     "output_type": "error",
     "traceback": [
      "\u001B[1;31m---------------------------------------------------------------------------\u001B[0m",
      "\u001B[1;31mPicklingError\u001B[0m                             Traceback (most recent call last)",
      "Cell \u001B[1;32mIn[37], line 20\u001B[0m\n\u001B[0;32m     17\u001B[0m train_correct \u001B[38;5;241m=\u001B[39m \u001B[38;5;241m0\u001B[39m\n\u001B[0;32m     18\u001B[0m train_total \u001B[38;5;241m=\u001B[39m \u001B[38;5;241m0\u001B[39m\n\u001B[1;32m---> 20\u001B[0m \u001B[38;5;28;01mfor\u001B[39;00m batch_idx, (data, target) \u001B[38;5;129;01min\u001B[39;00m \u001B[38;5;28;43menumerate\u001B[39;49m\u001B[43m(\u001B[49m\u001B[43mtrain_loader\u001B[49m\u001B[43m)\u001B[49m:\n\u001B[0;32m     21\u001B[0m     data, target \u001B[38;5;241m=\u001B[39m data\u001B[38;5;241m.\u001B[39mto(device), target\u001B[38;5;241m.\u001B[39mto(device)\n\u001B[0;32m     23\u001B[0m     \u001B[38;5;66;03m# 确保标签是long类型（CrossEntropyLoss要求）\u001B[39;00m\n",
      "File \u001B[1;32m~\\AppData\\Roaming\\Python\\Python312\\site-packages\\torch\\utils\\data\\dataloader.py:484\u001B[0m, in \u001B[0;36mDataLoader.__iter__\u001B[1;34m(self)\u001B[0m\n\u001B[0;32m    482\u001B[0m     \u001B[38;5;28;01mreturn\u001B[39;00m \u001B[38;5;28mself\u001B[39m\u001B[38;5;241m.\u001B[39m_iterator\n\u001B[0;32m    483\u001B[0m \u001B[38;5;28;01melse\u001B[39;00m:\n\u001B[1;32m--> 484\u001B[0m     \u001B[38;5;28;01mreturn\u001B[39;00m \u001B[38;5;28;43mself\u001B[39;49m\u001B[38;5;241;43m.\u001B[39;49m\u001B[43m_get_iterator\u001B[49m\u001B[43m(\u001B[49m\u001B[43m)\u001B[49m\n",
      "File \u001B[1;32m~\\AppData\\Roaming\\Python\\Python312\\site-packages\\torch\\utils\\data\\dataloader.py:415\u001B[0m, in \u001B[0;36mDataLoader._get_iterator\u001B[1;34m(self)\u001B[0m\n\u001B[0;32m    413\u001B[0m \u001B[38;5;28;01melse\u001B[39;00m:\n\u001B[0;32m    414\u001B[0m     \u001B[38;5;28mself\u001B[39m\u001B[38;5;241m.\u001B[39mcheck_worker_number_rationality()\n\u001B[1;32m--> 415\u001B[0m     \u001B[38;5;28;01mreturn\u001B[39;00m \u001B[43m_MultiProcessingDataLoaderIter\u001B[49m\u001B[43m(\u001B[49m\u001B[38;5;28;43mself\u001B[39;49m\u001B[43m)\u001B[49m\n",
      "File \u001B[1;32m~\\AppData\\Roaming\\Python\\Python312\\site-packages\\torch\\utils\\data\\dataloader.py:1138\u001B[0m, in \u001B[0;36m_MultiProcessingDataLoaderIter.__init__\u001B[1;34m(self, loader)\u001B[0m\n\u001B[0;32m   1131\u001B[0m w\u001B[38;5;241m.\u001B[39mdaemon \u001B[38;5;241m=\u001B[39m \u001B[38;5;28;01mTrue\u001B[39;00m\n\u001B[0;32m   1132\u001B[0m \u001B[38;5;66;03m# NB: Process.start() actually take some time as it needs to\u001B[39;00m\n\u001B[0;32m   1133\u001B[0m \u001B[38;5;66;03m#     start a process and pass the arguments over via a pipe.\u001B[39;00m\n\u001B[0;32m   1134\u001B[0m \u001B[38;5;66;03m#     Therefore, we only add a worker to self._workers list after\u001B[39;00m\n\u001B[0;32m   1135\u001B[0m \u001B[38;5;66;03m#     it started, so that we do not call .join() if program dies\u001B[39;00m\n\u001B[0;32m   1136\u001B[0m \u001B[38;5;66;03m#     before it starts, and __del__ tries to join but will get:\u001B[39;00m\n\u001B[0;32m   1137\u001B[0m \u001B[38;5;66;03m#     AssertionError: can only join a started process.\u001B[39;00m\n\u001B[1;32m-> 1138\u001B[0m \u001B[43mw\u001B[49m\u001B[38;5;241;43m.\u001B[39;49m\u001B[43mstart\u001B[49m\u001B[43m(\u001B[49m\u001B[43m)\u001B[49m\n\u001B[0;32m   1139\u001B[0m \u001B[38;5;28mself\u001B[39m\u001B[38;5;241m.\u001B[39m_index_queues\u001B[38;5;241m.\u001B[39mappend(index_queue)\n\u001B[0;32m   1140\u001B[0m \u001B[38;5;28mself\u001B[39m\u001B[38;5;241m.\u001B[39m_workers\u001B[38;5;241m.\u001B[39mappend(w)\n",
      "File \u001B[1;32mC:\\Program Files\\Python312\\Lib\\multiprocessing\\process.py:121\u001B[0m, in \u001B[0;36mBaseProcess.start\u001B[1;34m(self)\u001B[0m\n\u001B[0;32m    118\u001B[0m \u001B[38;5;28;01massert\u001B[39;00m \u001B[38;5;129;01mnot\u001B[39;00m _current_process\u001B[38;5;241m.\u001B[39m_config\u001B[38;5;241m.\u001B[39mget(\u001B[38;5;124m'\u001B[39m\u001B[38;5;124mdaemon\u001B[39m\u001B[38;5;124m'\u001B[39m), \\\n\u001B[0;32m    119\u001B[0m        \u001B[38;5;124m'\u001B[39m\u001B[38;5;124mdaemonic processes are not allowed to have children\u001B[39m\u001B[38;5;124m'\u001B[39m\n\u001B[0;32m    120\u001B[0m _cleanup()\n\u001B[1;32m--> 121\u001B[0m \u001B[38;5;28mself\u001B[39m\u001B[38;5;241m.\u001B[39m_popen \u001B[38;5;241m=\u001B[39m \u001B[38;5;28;43mself\u001B[39;49m\u001B[38;5;241;43m.\u001B[39;49m\u001B[43m_Popen\u001B[49m\u001B[43m(\u001B[49m\u001B[38;5;28;43mself\u001B[39;49m\u001B[43m)\u001B[49m\n\u001B[0;32m    122\u001B[0m \u001B[38;5;28mself\u001B[39m\u001B[38;5;241m.\u001B[39m_sentinel \u001B[38;5;241m=\u001B[39m \u001B[38;5;28mself\u001B[39m\u001B[38;5;241m.\u001B[39m_popen\u001B[38;5;241m.\u001B[39msentinel\n\u001B[0;32m    123\u001B[0m \u001B[38;5;66;03m# Avoid a refcycle if the target function holds an indirect\u001B[39;00m\n\u001B[0;32m    124\u001B[0m \u001B[38;5;66;03m# reference to the process object (see bpo-30775)\u001B[39;00m\n",
      "File \u001B[1;32mC:\\Program Files\\Python312\\Lib\\multiprocessing\\context.py:224\u001B[0m, in \u001B[0;36mProcess._Popen\u001B[1;34m(process_obj)\u001B[0m\n\u001B[0;32m    222\u001B[0m \u001B[38;5;129m@staticmethod\u001B[39m\n\u001B[0;32m    223\u001B[0m \u001B[38;5;28;01mdef\u001B[39;00m\u001B[38;5;250m \u001B[39m\u001B[38;5;21m_Popen\u001B[39m(process_obj):\n\u001B[1;32m--> 224\u001B[0m     \u001B[38;5;28;01mreturn\u001B[39;00m \u001B[43m_default_context\u001B[49m\u001B[38;5;241;43m.\u001B[39;49m\u001B[43mget_context\u001B[49m\u001B[43m(\u001B[49m\u001B[43m)\u001B[49m\u001B[38;5;241;43m.\u001B[39;49m\u001B[43mProcess\u001B[49m\u001B[38;5;241;43m.\u001B[39;49m\u001B[43m_Popen\u001B[49m\u001B[43m(\u001B[49m\u001B[43mprocess_obj\u001B[49m\u001B[43m)\u001B[49m\n",
      "File \u001B[1;32mC:\\Program Files\\Python312\\Lib\\multiprocessing\\context.py:337\u001B[0m, in \u001B[0;36mSpawnProcess._Popen\u001B[1;34m(process_obj)\u001B[0m\n\u001B[0;32m    334\u001B[0m \u001B[38;5;129m@staticmethod\u001B[39m\n\u001B[0;32m    335\u001B[0m \u001B[38;5;28;01mdef\u001B[39;00m\u001B[38;5;250m \u001B[39m\u001B[38;5;21m_Popen\u001B[39m(process_obj):\n\u001B[0;32m    336\u001B[0m     \u001B[38;5;28;01mfrom\u001B[39;00m\u001B[38;5;250m \u001B[39m\u001B[38;5;21;01m.\u001B[39;00m\u001B[38;5;21;01mpopen_spawn_win32\u001B[39;00m\u001B[38;5;250m \u001B[39m\u001B[38;5;28;01mimport\u001B[39;00m Popen\n\u001B[1;32m--> 337\u001B[0m     \u001B[38;5;28;01mreturn\u001B[39;00m \u001B[43mPopen\u001B[49m\u001B[43m(\u001B[49m\u001B[43mprocess_obj\u001B[49m\u001B[43m)\u001B[49m\n",
      "File \u001B[1;32mC:\\Program Files\\Python312\\Lib\\multiprocessing\\popen_spawn_win32.py:95\u001B[0m, in \u001B[0;36mPopen.__init__\u001B[1;34m(self, process_obj)\u001B[0m\n\u001B[0;32m     93\u001B[0m \u001B[38;5;28;01mtry\u001B[39;00m:\n\u001B[0;32m     94\u001B[0m     reduction\u001B[38;5;241m.\u001B[39mdump(prep_data, to_child)\n\u001B[1;32m---> 95\u001B[0m     \u001B[43mreduction\u001B[49m\u001B[38;5;241;43m.\u001B[39;49m\u001B[43mdump\u001B[49m\u001B[43m(\u001B[49m\u001B[43mprocess_obj\u001B[49m\u001B[43m,\u001B[49m\u001B[43m \u001B[49m\u001B[43mto_child\u001B[49m\u001B[43m)\u001B[49m\n\u001B[0;32m     96\u001B[0m \u001B[38;5;28;01mfinally\u001B[39;00m:\n\u001B[0;32m     97\u001B[0m     set_spawning_popen(\u001B[38;5;28;01mNone\u001B[39;00m)\n",
      "File \u001B[1;32mC:\\Program Files\\Python312\\Lib\\multiprocessing\\reduction.py:60\u001B[0m, in \u001B[0;36mdump\u001B[1;34m(obj, file, protocol)\u001B[0m\n\u001B[0;32m     58\u001B[0m \u001B[38;5;28;01mdef\u001B[39;00m\u001B[38;5;250m \u001B[39m\u001B[38;5;21mdump\u001B[39m(obj, file, protocol\u001B[38;5;241m=\u001B[39m\u001B[38;5;28;01mNone\u001B[39;00m):\n\u001B[0;32m     59\u001B[0m \u001B[38;5;250m    \u001B[39m\u001B[38;5;124;03m'''Replacement for pickle.dump() using ForkingPickler.'''\u001B[39;00m\n\u001B[1;32m---> 60\u001B[0m     \u001B[43mForkingPickler\u001B[49m\u001B[43m(\u001B[49m\u001B[43mfile\u001B[49m\u001B[43m,\u001B[49m\u001B[43m \u001B[49m\u001B[43mprotocol\u001B[49m\u001B[43m)\u001B[49m\u001B[38;5;241;43m.\u001B[39;49m\u001B[43mdump\u001B[49m\u001B[43m(\u001B[49m\u001B[43mobj\u001B[49m\u001B[43m)\u001B[49m\n",
      "\u001B[1;31mPicklingError\u001B[0m: Can't pickle <function <lambda> at 0x000001ED86A47880>: attribute lookup <lambda> on __main__ failed"
     ]
    }
   ],
   "execution_count": 37
  },
  {
   "metadata": {
    "ExecuteTime": {
     "end_time": "2025-10-18T07:16:13.877172Z",
     "start_time": "2025-10-18T07:16:13.877172Z"
    }
   },
   "cell_type": "code",
   "source": [
    "# ===== 训练结束 =====\n",
    "now_time = datetime.now()\n",
    "time_str = datetime.strftime(now_time, '%m-%d_%H-%M')\n",
    "print(f\"训练完成时间: {time_str}\")\n",
    "print(f\"最终最佳验证准确率: {best_val_accuracy:.2f}%\")"
   ],
   "id": "36e79720bb7bdf85",
   "outputs": [],
   "execution_count": null
  },
  {
   "metadata": {
    "ExecuteTime": {
     "end_time": "2025-10-18T07:16:13.880399Z",
     "start_time": "2025-10-18T07:16:13.879399Z"
    }
   },
   "cell_type": "code",
   "source": [
    "# 保存训练记录\n",
    "training_history = {\n",
    "    'train_losses': train_losses,\n",
    "    'val_losses': val_losses,\n",
    "    'train_accuracies': train_accuracies,\n",
    "    'val_accuracies': val_accuracies,\n",
    "    'learning_rates': learning_rates,\n",
    "    'best_val_accuracy': best_val_accuracy,\n",
    "    'best_epoch': best_epoch\n",
    "}\n",
    "torch.save(training_history, os.path.join(log_dir, 'training_history.pth'))\n",
    "\n",
    "# 绘制各种曲线\n",
    "picture_path_loss = os.path.join(log_dir, 'loss_curves.png')\n",
    "picture_path_acc = os.path.join(log_dir, 'accuracy_curves.png')\n",
    "picture_path_combined = os.path.join(log_dir, 'training_curves.png')\n",
    "\n",
    "plot_loss_curves(train_losses, val_losses, picture_path_loss)\n",
    "plot_accuracy_curves(train_accuracies, val_accuracies, picture_path_acc)\n",
    "plot_training_curves(train_losses, val_losses, train_accuracies, val_accuracies, picture_path_combined)\n",
    "\n",
    "print(f\"损失曲线已保存至: {picture_path_loss}\")\n",
    "print(f\"准确率曲线已保存至: {picture_path_acc}\")\n",
    "print(f\"综合训练曲线已保存至: {picture_path_combined}"
   ],
   "id": "bc66dc23ffc4ccf7",
   "outputs": [],
   "execution_count": null
  }
 ],
 "metadata": {
  "kernelspec": {
   "display_name": "Python 3",
   "language": "python",
   "name": "python3"
  },
  "language_info": {
   "codemirror_mode": {
    "name": "ipython",
    "version": 2
   },
   "file_extension": ".py",
   "mimetype": "text/x-python",
   "name": "python",
   "nbconvert_exporter": "python",
   "pygments_lexer": "ipython2",
   "version": "2.7.6"
  }
 },
 "nbformat": 4,
 "nbformat_minor": 5
}
